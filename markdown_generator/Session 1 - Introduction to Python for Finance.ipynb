{
 "cells": [
  {
   "cell_type": "markdown",
   "id": "02e58c3b",
   "metadata": {},
   "source": [
    "# Session 1 - Introduction to basics to Python for Finance"
   ]
  },
  {
   "cell_type": "markdown",
   "id": "33565789",
   "metadata": {},
   "source": [
    "This class aims get you to understand how Python can help you be more efficient in finance-related activities. This course will provide you with use cases in Coporate Finance & Market Finance. You will be able to learn about :\n",
    "* Basics of Python Programming \n",
    "* Data Analytics and Visualization \n",
    "* Financial Analysis and Corporate Finance using Python\n",
    "* Python applied to quantitative finance and asset management"
   ]
  },
  {
   "cell_type": "markdown",
   "id": "7c2e86a8",
   "metadata": {},
   "source": [
    "This session aims to give you the basics of Python programming and how to start writing a code step by step. It includes :\n",
    "* How to get an input from the user\n",
    "* How to use conditionnal statements\n",
    "* How to display the result\n",
    "* How to use loops and functions"
   ]
  },
  {
   "cell_type": "markdown",
   "id": "36d9991e",
   "metadata": {},
   "source": [
    "## I - What is Python ?"
   ]
  },
  {
   "cell_type": "markdown",
   "id": "35ecd610",
   "metadata": {},
   "source": [
    "Python is an`object-oriented` programming language deveopped by Guido van Rossum and released in 1991. It is frequently utilized in finance because of its :\n",
    "* Easiness to use and high readability\n",
    "* Large amount of libraries and framework\n",
    "* Similarity to mathematical syntax\n",
    "* Ability to analyse large datasets\n",
    "\n",
    "The execution of a Python program is linear, therefore, the code is being executed step by step in the order of each statement. In this case, every variable that is used has to be pre-defined and can be redefined."
   ]
  },
  {
   "cell_type": "markdown",
   "id": "69c960c2",
   "metadata": {},
   "source": [
    "## II - First lines of code in Python"
   ]
  },
  {
   "cell_type": "markdown",
   "id": "db2f91db",
   "metadata": {},
   "source": [
    "Python is a programming language and the software you use to write and execute your code is an IDE (Integrated Developpement Environment). Therefore, you can use different tools to write your code : Spyder / Jupyter / Pycharm / Visual Studio Code / etc. In this class we will mainly use Jupyter & Pycharm. \n",
    "\n",
    "The first line of code you will learn is the simplest and most utilized line of code to illustrate basic synthax is the computer displaying \"Hello, World!\""
   ]
  },
  {
   "cell_type": "code",
   "execution_count": 1,
   "id": "be95fa21",
   "metadata": {},
   "outputs": [
    {
     "name": "stdout",
     "output_type": "stream",
     "text": [
      "Hello, World!\n"
     ]
    }
   ],
   "source": [
    "# Lines of comments are preceded by a hash, they help you and the person who is reading your code to better understand \n",
    "print(\"Hello, World!\")"
   ]
  },
  {
   "cell_type": "markdown",
   "id": "8546c889",
   "metadata": {},
   "source": [
    "Everytime, a code a running, a portion of the memory of the computer is allocated to Python. In this sense, you can create a variable / an object to store data in a portion of the memory."
   ]
  },
  {
   "cell_type": "code",
   "execution_count": 2,
   "id": "ee0ad6b9",
   "metadata": {},
   "outputs": [
    {
     "name": "stdout",
     "output_type": "stream",
     "text": [
      "var =  5\n"
     ]
    }
   ],
   "source": [
    "# It is important to use a relevant name for your variables \n",
    "var = 5 \n",
    "# Several strings can be concatenated into one \n",
    "print(\"var = \",var)"
   ]
  },
  {
   "cell_type": "markdown",
   "id": "fffbe89c",
   "metadata": {},
   "source": [
    "Mathematical and logical operations can be perfomed on the variable with operands such as sums, differences, multiplications and divisions."
   ]
  },
  {
   "cell_type": "code",
   "execution_count": 3,
   "id": "71806a18",
   "metadata": {},
   "outputs": [
    {
     "name": "stdout",
     "output_type": "stream",
     "text": [
      "z =  5\n",
      "x + y =  5\n",
      "x - y =  -1\n"
     ]
    }
   ],
   "source": [
    "# Variables\n",
    "x = 2\n",
    "y = 3\n",
    "z = x + y\n",
    "\n",
    "# Displays\n",
    "print(\"z = \", z)\n",
    "print(\"x + y = \", x + y)\n",
    "print(\"x - y = \", x - y)"
   ]
  },
  {
   "cell_type": "markdown",
   "id": "c550427f",
   "metadata": {},
   "source": [
    "To make your code more understandable, it is essential to use relevant and understandable names for your variable. The names cannot start with a number, and only contain letters, numbers and underscores (no spaces). There exist several type of variables (not only integer or number), the most frequents include :\n",
    "* Text : str (stands for string)\n",
    "* Numbers : int, float and complex (Integer, Float & Complex)\n",
    "* Sequence type : list, tuple, range\n",
    "* Mapping : dict (Dictionnary)\n",
    "* Boolean : Bool \n",
    "* Objects : Obj"
   ]
  },
  {
   "cell_type": "markdown",
   "id": "5f50471f",
   "metadata": {},
   "source": [
    "## III - Conditionnal statements in Python"
   ]
  },
  {
   "cell_type": "markdown",
   "id": "4ea9c142",
   "metadata": {},
   "source": [
    "Conditionnal statement are used to control the flow of a program using conditions and to execute a piece of code if the statement is fulfilled. In case of finance, it can be for instance used to sell or to buy a stock according to the price."
   ]
  },
  {
   "cell_type": "code",
   "execution_count": 6,
   "id": "2ae6cc5d",
   "metadata": {},
   "outputs": [],
   "source": [
    "# In case of automated trading, an investor is taking a long poisition on a stock\n",
    "initial_price = 100\n",
    "threshold_profit = 0.15      # The % at which the investor accepts to take the profit\n",
    "threshold_loss = 0.05        # The percentage at which the investor accepts the loss\n",
    "\n",
    "# Stop loss and take profit\n",
    "long_sl = 100 * (1 - threshold_loss)      # The price at which the stock will be sold at a loss (to avoid future losses)\n",
    "long_tp = 100 * (1 + threshold_profit)    # The price at which the stock will be sold at a profit"
   ]
  },
  {
   "cell_type": "markdown",
   "id": "a8d6a2d7",
   "metadata": {},
   "source": [
    "In this section, we will also introduce how to get input from the user. Everytime the following lines of code are run, the input variable is redefined by the user. You will also notice that the preceding variables are stored in the memory of the computer."
   ]
  },
  {
   "cell_type": "code",
   "execution_count": 11,
   "id": "3281a1a4",
   "metadata": {},
   "outputs": [
    {
     "name": "stdout",
     "output_type": "stream",
     "text": [
      "Enter a market price : 100\n",
      "The investor keeps a long position\n"
     ]
    }
   ],
   "source": [
    "market_price = input(\"Enter a market price : \")       # Getting an input from the user (The type of variable is a string)\n",
    "market_price = float(market_price)                    # Converting into a number\n",
    "if market_price > long_tp :                           # If the price is higher than the Take profit limit\n",
    "    print(\"The investor sells the stock at the price : \", market_price)\n",
    "    print(\"The profit is = \", market_price - initial_price)\n",
    "elif market_price < long_sl :                         # If the first condition is not met then, if this one is met (else if)\n",
    "    print(\"The investor sells the stock at the price : \", market_price)\n",
    "    print(\"The loss is = \", market_price - initial_price)\n",
    "else :                                                # Every other cases\n",
    "    print(\"The investor keeps a long position\")"
   ]
  },
  {
   "cell_type": "markdown",
   "id": "50b29faf",
   "metadata": {},
   "source": [
    "As you may notice, some statements have an indentations before. A same level of indentation a same block of statement, which indicates that the statements have to be executed together."
   ]
  },
  {
   "cell_type": "markdown",
   "id": "b0e2afe2",
   "metadata": {},
   "source": [
    "### *Blitz Exercise (15 min) : Automated traditing with a short position*\n",
    "With the same process as the one seen previously, generate the orders for an investor that has a short position, with a stock sold $95. The thresholds at 13%. You will have 15 min to complete this exercise."
   ]
  },
  {
   "cell_type": "code",
   "execution_count": null,
   "id": "6cd25eb5",
   "metadata": {},
   "outputs": [],
   "source": [
    "# Solution to be written in class directly"
   ]
  },
  {
   "cell_type": "markdown",
   "id": "811bc4b2",
   "metadata": {},
   "source": [
    "## IV - Loops\n",
    "Loops are use when one needs to repeat several time a same statement or block of statement, for example in case of lists, strings or datasets. There are basically 2 different type of loops : \n",
    "* The \"For\" loops used when the number of iteration is known \n",
    "* The \"While\" loops that are used when the number of iteration is not known"
   ]
  },
  {
   "cell_type": "code",
   "execution_count": 2,
   "id": "ecd499fe",
   "metadata": {},
   "outputs": [
    {
     "name": "stdout",
     "output_type": "stream",
     "text": [
      "List 1 :  [0, 1, 2, 3, 4, 5, 6, 7, 8, 9, 10, 11, 12, 13, 14, 15, 16, 17, 18, 19]\n",
      "i =  0\n",
      "i =  1\n",
      "i =  2\n",
      "i =  3\n",
      "i =  4\n",
      "i =  5\n",
      "i =  6\n",
      "i =  7\n",
      "i =  8\n",
      "i =  9\n",
      "i =  10\n",
      "i =  11\n",
      "i =  12\n",
      "i =  13\n",
      "i =  14\n",
      "i =  15\n",
      "i =  16\n",
      "i =  17\n",
      "i =  18\n",
      "i =  19\n",
      "List 2 :  [0, 2, 4, 6, 8, 10, 12, 14, 16, 18, 20, 22, 24, 26, 28, 30, 32, 34, 36, 38]\n"
     ]
    }
   ],
   "source": [
    "# Creation of a list \n",
    "list_of_number = list(range(20))      # Automatically generate a sequence of 20 numbers\n",
    "print(\"List 1 : \", list_of_number)                 # You will notice that the range starts from 0 and stops at n - 1\n",
    "\n",
    "new_list = []\n",
    "# For loop, multiply all element by 2\n",
    "for i in range(len(list_of_number)) :       # By convention, we use i, j, k, l, m. The len function returns the length of a list\n",
    "    # The for loop, in this case always goes from 0 to the number set as \"range parameter\" - 1\n",
    "    print(\"i = \", i)\n",
    "    new_list.append(list_of_number[i] * 2)  # Adding elements to the list \"new_list\", element at index i\n",
    "print(\"List 2 : \", new_list)"
   ]
  },
  {
   "cell_type": "code",
   "execution_count": 27,
   "id": "c6086838",
   "metadata": {},
   "outputs": [],
   "source": [
    "# Live coding with the equivalent with another synthax"
   ]
  },
  {
   "cell_type": "markdown",
   "id": "37d09ece",
   "metadata": {},
   "source": [
    "While \"For\" loops can be used to repeat group of statements that for a known number of iteration, \"While\" loops are usually used to repeat blocks of statement for a unknown number of iterations. They are for example used to find something in a list."
   ]
  },
  {
   "cell_type": "code",
   "execution_count": 42,
   "id": "2f6ceca2",
   "metadata": {},
   "outputs": [
    {
     "name": "stdout",
     "output_type": "stream",
     "text": [
      "Number 5 found ! It is the  97 th number\n",
      "\n",
      "\n",
      "List :  [81, 39, 22, 1, 29, 84, 21, 71, 76, 43, 81, 41, 52, 64, 6, 12, 80, 34, 33, 95, 30, 96, 79, 89, 92, 8, 3, 21, 7, 56, 64, 11, 75, 44, 81, 23, 85, 66, 27, 19, 92, 48, 91, 8, 72, 43, 18, 77, 88, 6, 45, 34, 67, 79, 2, 86, 47, 99, 4, 96, 92, 2, 10, 41, 20, 99, 29, 19, 60, 77, 90, 72, 58, 69, 36, 30, 64, 34, 15, 100, 33, 98, 32, 73, 50, 17, 66, 89, 60, 15, 44, 54, 36, 20, 96, 9, 5, 48, 91, 72]\n"
     ]
    }
   ],
   "source": [
    "# We generate 100 random numbers from 1 to 100 \n",
    "import random                         # Import the library\n",
    "random_numbers = []\n",
    "for i in range(100):                  # Execute the code 100 times          \n",
    "    n = random. randint(1,100)        # Generate a random number from 1 to 100\n",
    "    random_numbers. append(n)\n",
    "\n",
    "# Then we try to find the first occurrence of the number 5\n",
    "iterator = 0                          # It is important to set a starting value for the iterator\n",
    "i = 0\n",
    "while iterator != 5 :                 # Not equal to\n",
    "    if i >= len(random_numbers):      # If i is bigger than the length of the list, then we did not find the variable\n",
    "        print(\"Number 5 not found !\")\n",
    "        break                         # Exit the loop\n",
    "    iterator = random_numbers[i]\n",
    "    if iterator == 5 :                # Double = for comparison\n",
    "        print(\"Number 5 found ! It is the \", i + 1,\"th number\")\n",
    "    i = i + 1                         # DO NOT FORGET to increment the i, otherwise it will create an infinite loop\n",
    "print(\"\\n\")                           # Line break\n",
    "print(\"List : \", random_numbers)"
   ]
  },
  {
   "cell_type": "markdown",
   "id": "970b2e51",
   "metadata": {},
   "source": [
    "## V - Functions\n",
    "To avoid repeating the same lines of code several times, one can use functions to make the code more readable and easier to understand. However, functions have to be used with parsimony."
   ]
  },
  {
   "cell_type": "code",
   "execution_count": 12,
   "id": "892e8523",
   "metadata": {},
   "outputs": [],
   "source": [
    "# Every function is preceded by the \"def\" key word\n",
    "def say_hello():\n",
    "    print(\"Hello World!\")"
   ]
  },
  {
   "cell_type": "code",
   "execution_count": 13,
   "id": "b8f2a24c",
   "metadata": {},
   "outputs": [
    {
     "name": "stdout",
     "output_type": "stream",
     "text": [
      "Hello World!\n"
     ]
    }
   ],
   "source": [
    "# Everytime the function is called, the statement block inside the function is executed\n",
    "say_hello()"
   ]
  },
  {
   "cell_type": "markdown",
   "id": "76172633",
   "metadata": {},
   "source": [
    "The variables defined inside the function are only defined in the scope of the function (passing by value). It is possible to pass information as arguments, they are specified in the parentheses and for several arguments separated by commas."
   ]
  },
  {
   "cell_type": "code",
   "execution_count": 44,
   "id": "78c164a8",
   "metadata": {},
   "outputs": [
    {
     "name": "stdout",
     "output_type": "stream",
     "text": [
      "2 x  12  =  24\n",
      "2 x  5  =  10\n"
     ]
    }
   ],
   "source": [
    "def double(a):\n",
    "    print(\"2 x \", a, \" = \",2 * a)\n",
    "\n",
    "# Testing the function\n",
    "double(12)\n",
    "double(5)"
   ]
  },
  {
   "cell_type": "markdown",
   "id": "7fb89f4c",
   "metadata": {},
   "source": [
    "It is possible to pass information as arguments and it is also possible to get a result out of a function, and then to store it into another variable outside the function."
   ]
  },
  {
   "cell_type": "code",
   "execution_count": 50,
   "id": "49b351bf",
   "metadata": {},
   "outputs": [
    {
     "name": "stdout",
     "output_type": "stream",
     "text": [
      "Return =  11.1 %\n"
     ]
    }
   ],
   "source": [
    "# Calculating the return of a stock \n",
    "def calculate_return(final_price, initial_price):\n",
    "    return final_price/initial_price - 1\n",
    "\n",
    "return_stock = calculate_return(10, 9)                   # Calling the function and storing into a variable\n",
    "return_stock = round(return_stock, 3)                    # Round to 4 decimals\n",
    "print(\"Return = \", return_stock * 100, \"%\")"
   ]
  },
  {
   "cell_type": "markdown",
   "id": "d8621906",
   "metadata": {},
   "source": [
    "As previously mentionned, variables are `passed by value` and the process / operations inside the function are only valid inside the function. In case the result of the function is not stored, the result won't be kept in the memory."
   ]
  },
  {
   "cell_type": "code",
   "execution_count": 57,
   "id": "e4e3bcbc",
   "metadata": {},
   "outputs": [
    {
     "name": "stdout",
     "output_type": "stream",
     "text": [
      "Number before function :  15\n",
      "The number inside the function :  20\n",
      "The number after the function :  15\n"
     ]
    }
   ],
   "source": [
    "def add_five(number):\n",
    "    number = number + 5\n",
    "    print(\"The number inside the function : \", number)\n",
    "\n",
    "number = 15\n",
    "print(\"Number before function : \", number)\n",
    "add_five(number)\n",
    "print(\"The number after the function : \", number)"
   ]
  },
  {
   "cell_type": "code",
   "execution_count": 55,
   "id": "98e49f1c",
   "metadata": {},
   "outputs": [],
   "source": [
    "# Live coding with the example shown in III of this Session"
   ]
  },
  {
   "cell_type": "markdown",
   "id": "12ecb0c6",
   "metadata": {},
   "source": [
    "### *Assignment : Writing functions used in financial analysis*\n",
    "Write a program calculating the current ratio, the return on asset and internal rate of return (using a list of cash flows) using Jupyter. Show 3 examples to illustrate the formulas. Send the code to the email : eva.cheng@audencia.com"
   ]
  }
 ],
 "metadata": {
  "kernelspec": {
   "display_name": "Python 3 (ipykernel)",
   "language": "python",
   "name": "python3"
  },
  "language_info": {
   "codemirror_mode": {
    "name": "ipython",
    "version": 3
   },
   "file_extension": ".py",
   "mimetype": "text/x-python",
   "name": "python",
   "nbconvert_exporter": "python",
   "pygments_lexer": "ipython3",
   "version": "3.10.9"
  }
 },
 "nbformat": 4,
 "nbformat_minor": 5
}
