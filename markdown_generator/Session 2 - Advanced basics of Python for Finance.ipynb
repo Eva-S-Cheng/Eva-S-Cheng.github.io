{
 "cells": [
  {
   "cell_type": "markdown",
   "id": "22e83aed",
   "metadata": {},
   "source": [
    "# Session 2 - Advanced basics of Python for Finance"
   ]
  },
  {
   "cell_type": "markdown",
   "id": "2d2e6a2a",
   "metadata": {},
   "source": [
    "This session aims to make you as more autonomous as possible while writing a program in Python. It will help you understand :\n",
    "* The principles of object oriented programming\n",
    "* Understanding reccurent errors and how to debug the code\n",
    "* How to install packages and libraries\n"
   ]
  },
  {
   "cell_type": "markdown",
   "id": "9b9499f4",
   "metadata": {},
   "source": [
    "## I - Principles of object oriented programming\n",
    "To store information, a computer can either use variables or objects. Variables include integers, strings, floats, complexes etc. While objects include dataframes, lists etc. In the present part, you will learn about the specificities of object and how to create one."
   ]
  },
  {
   "cell_type": "markdown",
   "id": "f0d9a15f",
   "metadata": {},
   "source": [
    "An object is an instance (or an element) of a specific class. A class is a particular data structure that can be user-created or already defined thanks to Python packages. The class defines the nature of an object with :\n",
    "* Values for state (attributes or variables)\n",
    "* Behaviors (methods)\n",
    "\n",
    "As a simple example, at school : \n",
    "* Student would be a class\n",
    "* Every single student would be an instance / element of the class \n",
    "* The name, gender, age, major, grades, classes\n",
    "* The methods might be getting a grade, taking a class, walking, interacting with other students"
   ]
  },
  {
   "cell_type": "code",
   "execution_count": 2,
   "id": "f659e2a8",
   "metadata": {},
   "outputs": [],
   "source": [
    "# An example of how we define a class in Python \n",
    "class Vehicle :\n",
    "    def __init__(self, brand, model, color, passengers, speed): # A vehicle is defined by brand, model, color, passengers, speed\n",
    "        self.brand = brand                                      # Brand of the object (represented as \"self\") = value of brand\n",
    "        self.model = model  \n",
    "        self.color = color  \n",
    "        self.passengers = passengers  \n",
    "        self.speed = speed  \n",
    "        \n",
    "    def accelerate(self):                                       # Adding a method (behavior), a vehicle can accelerate\n",
    "        self.speed = self.speed + 10\n",
    "        print(\"The vehicle is going 10 km/h faster\")\n",
    "\n",
    "    def add_passengers(self, number):                           # Passengers can get off and get on a vehicle\n",
    "        self.passengers = self.passengers + number\n",
    "        print(number, \"new passenger(s) got on the vehicle\")\n",
    "        \n",
    "    def get_info(self):\n",
    "        print(\"The vehicle is a\", self.color, self.model, \"from\", self.brand, \n",
    "              \"with\", self.passengers, \"passengers and going \", self.speed, \"km/h\")"
   ]
  },
  {
   "cell_type": "code",
   "execution_count": 3,
   "id": "faed2869",
   "metadata": {},
   "outputs": [
    {
     "name": "stdout",
     "output_type": "stream",
     "text": [
      "The vehicle is a Blue Model 4 from BMW with 4 passengers and going  120 km/h\n",
      "The vehicle is going 10 km/h faster\n",
      "1 new passenger(s) got on the vehicle\n",
      "The vehicle is a Blue Model 4 from BMW with 5 passengers and going  130 km/h\n"
     ]
    }
   ],
   "source": [
    "# Testing the class\n",
    "bmwv_car = Vehicle(\"BMW\", \"Model 4\", \"Blue\", 4, 120)\n",
    "bmwv_car.get_info()\n",
    "bmwv_car.accelerate()\n",
    "bmwv_car.add_passengers(1)\n",
    "bmwv_car.get_info()"
   ]
  },
  {
   "cell_type": "markdown",
   "id": "759ca1e4",
   "metadata": {},
   "source": [
    "As you may notice, everytime we refer to a class-method, the method is preceeded the name of the object and a point and followed by the parentheses that indicates that we refer to a function. Every attribute of the object is preceeded by the name of the object and the point only.\n",
    "\n",
    "The major difference between variables and objects are that objects are references and variables values in function. In other terms :"
   ]
  },
  {
   "cell_type": "code",
   "execution_count": 13,
   "id": "ca559e13",
   "metadata": {},
   "outputs": [
    {
     "name": "stdout",
     "output_type": "stream",
     "text": [
      "Value of x : 10 & Value of y : 15\n",
      "Initial of the car's speed value : 100\n",
      "Value of speed of first Tesla : 80 & Value of speed of second Tesla : 80\n"
     ]
    }
   ],
   "source": [
    "# Example with variables\n",
    "x = 10\n",
    "y = x\n",
    "y = 15\n",
    "\n",
    "print(\"Value of x :\", x, \"& Value of y :\", y)\n",
    "\n",
    "# Example with objects\n",
    "tesla_car = Vehicle(\"Tesla\", \"Model X\", \"Black\", 4, 100)\n",
    "print(\"Initial of the car's speed value :\", tesla_car.speed)\n",
    "another_tesla = tesla_car\n",
    "another_tesla.speed = 80\n",
    "print(\"Value of speed of first Tesla :\", tesla_car.speed, \"& Value of speed of second Tesla :\", another_tesla.speed)"
   ]
  },
  {
   "cell_type": "markdown",
   "id": "5c1163ac",
   "metadata": {},
   "source": [
    "Therefore, it is very important to understand that when an object is mentionned, we refer to a reference in the memory of the computer. The statement is as valid for user-created objects as the objects that already exist in Python (Lists, DataFrame, Series, arrays...)"
   ]
  },
  {
   "cell_type": "markdown",
   "id": "a83422da",
   "metadata": {},
   "source": [
    "Different levels of encapsulations exists in Object oriented programming (will not be covered in this class). In the example above, all elements were public. But for advanced level of Python programming, developpers need to know the difference between the different levels of encapsulations :\n",
    "* `private` : Private methods & attributes are preceeded by `__`, their access restricted to the class level only (the attributes and methods cannot be called outside the function)\n",
    "* `protected` : Protected methods & attributes are preceeded by a `_`, their access restricted to the class and sub-class level only (Case of inheritance, _not covered_)\n",
    "* `public` : Public methods & attributes can be accessed outside the class"
   ]
  },
  {
   "cell_type": "markdown",
   "id": "f1439fae",
   "metadata": {},
   "source": [
    "## II - Installing packages\n",
    "Existing objects in Python usually come from packages or libraries which often require a preinstallment before using the package. The main packages that are used for finance are :\n",
    "* `pandas` : For data manipulation\n",
    "* `numpy` : Which supports large multi-dimensional arrays with high level mathematical operations\n",
    "* `matplotlib` and `seaborn` : For visualization \n",
    "* `statsmodels` : For statistical tools \n",
    "* `scipy` : Usually for scientfic computing, such as linear algebra, optimization and integration\n",
    "\n",
    "They are usually installed via the Anaconda Prompt in the Anaconda environment or in the command line prompt with the statement `pip install [name of package]`"
   ]
  },
  {
   "cell_type": "code",
   "execution_count": 17,
   "id": "884a9a7f",
   "metadata": {},
   "outputs": [],
   "source": [
    "# Before using the module / package, the package needs to be imported with the following statement\n",
    "import pandas as pd                 # pd is the convetionnal shortname for pandas"
   ]
  },
  {
   "cell_type": "markdown",
   "id": "c9fc1a04",
   "metadata": {},
   "source": [
    "They can also be installed manually via the IDE directly. We can see the packages that are already installed thanks to the `pip list` command in the prompt."
   ]
  },
  {
   "cell_type": "markdown",
   "id": "b35ab6f2",
   "metadata": {},
   "source": [
    "## III - Recurrent errors\n",
    "As you are starting to learn about Python, it is important to become more independent and more autonomous when writing a program. The errors are usually the elements that are evocative of whether the code is correct or not. In the second case, the computer will usually either : not generate the expected result, generate an error or a bug or the program will crash."
   ]
  },
  {
   "cell_type": "markdown",
   "id": "df216350",
   "metadata": {},
   "source": [
    "There are common errors that will usually generate bugs (no result generated) :\n",
    "* Syntax Error : _The interpreter found lines of code that do not respect the syntax rules (Unclosed string, missing commas, missing columns, misspelling key words, missing parenthesis...)_\n",
    "* Indentation error : _Usually when the spacing used for a nested block is incorrect_\n",
    "* Name error : _This error is common when we refer to a variable that has not be defined before_\n",
    "* Value error : _This error occurs when the data type passed by argument of a function is correct but the value is invalid_\n",
    "* Type error : _This error occurs when the used data type is invalid for certain type of operations or the variable passed by argument of a function does not have the correct data type_\n",
    "* Zero Division error : _This error occurs when the program tries to divide something by 0_\n",
    "* File not found error : _This error occurs when we are trying to read a file that is not found in the directory. (Usually, the file is missing or the name of the file is misspelled)_\n",
    "* Module not found error : _The module we are trying to use or to import is not known by the computer (Misspelling, package not installed, module does not exist)_\n",
    "* Memory error : _This error usually occurs when doing large operations on the computer and the system runs out of RAM memory_\n",
    "* Index error : _When trying to access to an index in a sequence (list, dataframes, arrays) that is outside the valid range (Remember that indexes start from 0 to the length of the list minus one)_\n",
    "* Permission error : _Occurs when a user tries to execute an operation without the required priviledge\n",
    "* Attribute error : _This type of error occurs particularly in object oriented programming when one tries to refer to an attribute or a method of an object that is not defined_\n",
    "* Unbound local error : _Occurs inside functions when we refer to a name that is not defined inside the function, but is defined outside the function_\n",
    "\n",
    "PyCharm is a good tool to help correcting the reccurent errors. There are actually many ways to debug a code, and some website can be helpful by copy-pasting the message error online :\n",
    "1. Stack Overflow : https://stackoverflow.com/\n",
    "2. GeeksforGeeks: https://www.geeksforgeeks.org/\n",
    "3. Python.org : https://discuss.python.org/\n",
    "4. ChatGPT : https://chatgpt.com/"
   ]
  },
  {
   "cell_type": "markdown",
   "id": "41699122",
   "metadata": {},
   "source": [
    "### *Assignment : Correct the following code*\n",
    "In order to practice and for you to be more independent using Python before starting the part in Finance that will be more challenging, you will be required to correct the following code. (Be careful ⚠️ the errors can either generate errors or generate result (in that case, you will not get a message from the Python interpreter. It can be logic or calculation errors, and you will need knowledge in other field than Python to achieve the exercise)."
   ]
  },
  {
   "cell_type": "code",
   "execution_count": 3,
   "id": "01bb11a4",
   "metadata": {},
   "outputs": [
    {
     "ename": "SyntaxError",
     "evalue": "invalid syntax (459037447.py, line 7)",
     "output_type": "error",
     "traceback": [
      "\u001b[1;36m  Cell \u001b[1;32mIn[3], line 7\u001b[1;36m\u001b[0m\n\u001b[1;33m    real asset = 45000\u001b[0m\n\u001b[1;37m         ^\u001b[0m\n\u001b[1;31mSyntaxError\u001b[0m\u001b[1;31m:\u001b[0m invalid syntax\n"
     ]
    }
   ],
   "source": [
    "# Precisions : There will be syntax errors and logical errors (wrong calculations for example)\n",
    "import numpy as np\n",
    "\n",
    "\"\"\"\" ---------------- Part 1 : Simplified Real Estate Valuation ---------------- \"\"\"\n",
    "\n",
    "# Imagining you are investing in a real asset sold at price $250,0000 and annual revenue $10,000 and annual cost $7,500\n",
    "real asset = 45000\n",
    "revenue = 10000\n",
    "\n",
    "# The Annual Net Operating Income is the income generated each year with the revenue and the costs implied after the acquistion \n",
    "def calculate_NOI(revenue):\n",
    "    net_operating_income = cost - revenue\n",
    "return revenue\n",
    "\n",
    "Afterwards, we can calculate the capitalization rate. The capitalization rate is basically the expected return on real assets\n",
    "def calculate_cap_rate(net_operating_income, value)\n",
    "    return net_operating_income / value\n",
    "\n",
    "# We can also calculate the investment payback period. It is by definition the time required to generate profit on investment\n",
    "get_payback_period(net_operating_income, value)\n",
    "\n",
    "def get_payback_period(net_operating_income, value):\n",
    "    return value / net_operating income\n",
    "\n",
    "# Testing the formulas\n",
    "net_op_income = calculate_NOI(revenue, cost)\n",
    "cap_rate = def calculate_cap_rate(net_operating_income, real asset)\n",
    "    payback_period = get_payback_period(net_op_income, real asset)\n",
    "\n",
    "# Displaying the results \n",
    "print(The real asset that inital cost, \"real asset\", \"has a\", payback_period, \n",
    "      \"- year payback period and a cap rate of \", cap_rate, \"%\")\n",
    "\n",
    "\"\"\"\" ---------------- Part 2 : Simplfied Mortgage Payment ---------------- \"\"\"\n",
    "# A mortgage loan is defined by : a Home Price, a down payment (initial payment), a term, an interest rate. (without taxes)\n",
    "# We are usually interested in knowing the paid interests and the total mortgage payment\n",
    "home_price = 450000\n",
    "term = 30 years\n",
    "initial_payment = 0,2              # 20% \n",
    "\n",
    "# We let the user choose the interest rate\n",
    "input(\"Please enter an interest rate : \")\n",
    "\n",
    "# The principal is the amount of the loan (The home price - initial payment), n the number of payment per year (assume months)\n",
    "def calculate_periodic_payment(principal, term, interest_rate, n):\n",
    "number_of_payment = n * principal\n",
    "    interest_rate_per_period = interest_rate / n\n",
    "    return principal * interest_rate_per_period / (1 - (1 + interest_rate_per_period)**(-number_of_payment))\n",
    "# The official formula is (P x (r/n))/(1 - (1 + r/n)^(-nt)) \n",
    "# P : the principal, r the interest, n the number of month, t the term\n",
    "\n",
    "principal = home_price * (1 - initial_payment)\n",
    "periodic_payment = calculate_periodic_payment(principal, term, 0, 12)\n",
    "# We create the lists of the payments (the interests and the principal)\n",
    "number_of_period = 12 * term\n",
    "\n",
    "interests = []\n",
    "reimbursement_of_principal = []\n",
    "remaining_capital = principal\n",
    "total_reimbursement = 0\n",
    "interest_per_period = interest_rate / 12\n",
    "\n",
    "# We calculate the payments\n",
    "while remaining_capital > 0:\n",
    "    interest.add(remaining_capital * interest_per_period\n",
    "    reimbursement_of_principal.append(periodic_payment - interests[len(interest)]) # Last element of the list named interests\n",
    "\n",
    "# Total interest\n",
    "paid_interests = sum(interests)\n",
    "\n",
    "print(\"Total payment = \" paid_interests + principal)\n",
    "print(\"Reimbursement : \", reimbursement_of_principal)\n",
    "print(\"Interests : \", interests)"
   ]
  }
 ],
 "metadata": {
  "kernelspec": {
   "display_name": "Python 3 (ipykernel)",
   "language": "python",
   "name": "python3"
  },
  "language_info": {
   "codemirror_mode": {
    "name": "ipython",
    "version": 3
   },
   "file_extension": ".py",
   "mimetype": "text/x-python",
   "name": "python",
   "nbconvert_exporter": "python",
   "pygments_lexer": "ipython3",
   "version": "3.10.9"
  }
 },
 "nbformat": 4,
 "nbformat_minor": 5
}
